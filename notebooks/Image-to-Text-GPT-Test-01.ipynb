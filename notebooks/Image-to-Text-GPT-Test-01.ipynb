{
 "cells": [
  {
   "cell_type": "markdown",
   "id": "e3c1644c",
   "metadata": {},
   "source": [
    "# Storybook"
   ]
  },
  {
   "cell_type": "markdown",
   "id": "5309940d",
   "metadata": {},
   "source": [
    "## Install Necessary Libraries"
   ]
  },
  {
   "cell_type": "code",
   "execution_count": 2,
   "id": "ebd57411",
   "metadata": {},
   "outputs": [],
   "source": [
    "# !pip install transformers torch\n",
    "# !pip install openai"
   ]
  },
  {
   "cell_type": "markdown",
   "id": "85fbc64a",
   "metadata": {},
   "source": [
    "### Import Libraries"
   ]
  },
  {
   "cell_type": "code",
   "execution_count": 3,
   "id": "dcc046fd",
   "metadata": {},
   "outputs": [],
   "source": [
    "import torch\n",
    "from transformers import BlipProcessor, BlipForConditionalGeneration, GPT2Tokenizer, GPT2LMHeadModel\n",
    "from PIL import Image\n",
    "import requests\n",
    "from io import BytesIO\n",
    "import IPython.display as display"
   ]
  },
  {
   "cell_type": "markdown",
   "id": "4532eaed",
   "metadata": {},
   "source": [
    "### Load BLIP Model and Processor"
   ]
  },
  {
   "cell_type": "code",
   "execution_count": 4,
   "id": "41042f29",
   "metadata": {
    "scrolled": true
   },
   "outputs": [
    {
     "name": "stderr",
     "output_type": "stream",
     "text": [
      "2024-05-28 14:07:23.728229: I tensorflow/core/platform/cpu_feature_guard.cc:210] This TensorFlow binary is optimized to use available CPU instructions in performance-critical operations.\n",
      "To enable the following instructions: AVX2 FMA, in other operations, rebuild TensorFlow with the appropriate compiler flags.\n"
     ]
    }
   ],
   "source": [
    "blip_model_name = \"Salesforce/blip-image-captioning-large\"\n",
    "blip_processor = BlipProcessor.from_pretrained(blip_model_name)\n",
    "blip_model = BlipForConditionalGeneration.from_pretrained(blip_model_name)"
   ]
  },
  {
   "cell_type": "markdown",
   "id": "3f19bf6e",
   "metadata": {},
   "source": [
    "## Define Function to Generate Caption"
   ]
  },
  {
   "cell_type": "code",
   "execution_count": 5,
   "id": "8da5aa3a",
   "metadata": {},
   "outputs": [],
   "source": [
    "def generate_caption(image_url):\n",
    "    response = requests.get(image_url)\n",
    "    image = Image.open(BytesIO(response.content))\n",
    "\n",
    "    inputs = blip_processor(images=image, return_tensors=\"pt\")\n",
    "    outputs = blip_model.generate(**inputs)\n",
    "\n",
    "    caption = blip_processor.decode(outputs[0], skip_special_tokens=True)\n",
    "    return caption\n"
   ]
  },
  {
   "cell_type": "markdown",
   "id": "f2ad99c8",
   "metadata": {},
   "source": [
    "### Test Image Captioning"
   ]
  },
  {
   "cell_type": "code",
   "execution_count": 7,
   "id": "6a49fa30",
   "metadata": {
    "scrolled": true
   },
   "outputs": [
    {
     "data": {
      "text/html": [
       "<img src=\"https://encrypted-tbn0.gstatic.com/images?q=tbn:ANd9GcRzn-z0Nh-DBQQpd1l4fGgI9ouleVFBrSnsUw&s\"/>"
      ],
      "text/plain": [
       "<IPython.core.display.Image object>"
      ]
     },
     "metadata": {},
     "output_type": "display_data"
    },
    {
     "name": "stderr",
     "output_type": "stream",
     "text": [
      "/Users/marius/.pyenv/versions/3.10.6/envs/storybook/lib/python3.10/site-packages/transformers/generation/utils.py:1168: UserWarning: Using the model-agnostic default `max_length` (=20) to control the generation length. We recommend setting `max_new_tokens` to control the maximum length of the generation.\n",
      "  warnings.warn(\n"
     ]
    },
    {
     "name": "stdout",
     "output_type": "stream",
     "text": [
      "Caption: there is a small child playing with toy cars on the floor\n"
     ]
    }
   ],
   "source": [
    "# Example image URL\n",
    "image_url = \"https://encrypted-tbn0.gstatic.com/images?q=tbn:ANd9GcRzn-z0Nh-DBQQpd1l4fGgI9ouleVFBrSnsUw&s\"\n",
    "# Display image\n",
    "display.display(display.Image(url=image_url))\n",
    "# Generate caption\n",
    "caption = generate_caption(image_url)\n",
    "print(\"Caption:\", caption)"
   ]
  },
  {
   "cell_type": "markdown",
   "id": "8567ba95",
   "metadata": {},
   "source": [
    "## Define Function to Generate Captions for Multiple Images"
   ]
  },
  {
   "cell_type": "code",
   "execution_count": 8,
   "id": "f1e20e04",
   "metadata": {},
   "outputs": [],
   "source": [
    "def generate_captions(image_urls):\n",
    "    captions = []\n",
    "    for url in image_urls:\n",
    "        caption = generate_caption(url)\n",
    "        captions.append(caption)\n",
    "    return captions"
   ]
  },
  {
   "cell_type": "markdown",
   "id": "2ba39fef",
   "metadata": {},
   "source": [
    "### Example Usage for Multiple Captions"
   ]
  },
  {
   "cell_type": "code",
   "execution_count": 9,
   "id": "d48a32a4",
   "metadata": {},
   "outputs": [
    {
     "data": {
      "text/html": [
       "<img src=\"https://cdn.cdnparenting.com/articles/2018/06/418806355-H-1024x700.jpg\"/>"
      ],
      "text/plain": [
       "<IPython.core.display.Image object>"
      ]
     },
     "metadata": {},
     "output_type": "display_data"
    },
    {
     "name": "stdout",
     "output_type": "stream",
     "text": [
      "Caption 1: several children are playing with a frisbee in a grassy field\n"
     ]
    },
    {
     "data": {
      "text/html": [
       "<img src=\"https://littletikescommercial.com/wp-content/uploads/2020/12/Adventureland-Park-IA_199-scaled.jpg\"/>"
      ],
      "text/plain": [
       "<IPython.core.display.Image object>"
      ]
     },
     "metadata": {},
     "output_type": "display_data"
    },
    {
     "name": "stdout",
     "output_type": "stream",
     "text": [
      "Caption 2: there are two children playing on a playground slide\n"
     ]
    },
    {
     "data": {
      "text/html": [
       "<img src=\"https://www.kidstuffplaysystems.com/wp-content/uploads/2019/06/81110-Ring-trek.jpg\"/>"
      ],
      "text/plain": [
       "<IPython.core.display.Image object>"
      ]
     },
     "metadata": {},
     "output_type": "display_data"
    },
    {
     "name": "stdout",
     "output_type": "stream",
     "text": [
      "Caption 3: there are many children playing on a playground structure\n"
     ]
    },
    {
     "data": {
      "text/html": [
       "<img src=\"https://images.unsplash.com/photo-1621354598022-16599af1b8b2?q=80&w=870&auto=format&fit=crop&ixlib=rb-4.0.3&ixid=M3wxMjA3fDB8MHxwaG90by1wYWdlfHx8fGVufDB8fHx8fA%3D%3D\"/>"
      ],
      "text/plain": [
       "<IPython.core.display.Image object>"
      ]
     },
     "metadata": {},
     "output_type": "display_data"
    },
    {
     "name": "stdout",
     "output_type": "stream",
     "text": [
      "Caption 4: there are two children playing in a ball pit with balloons\n"
     ]
    }
   ],
   "source": [
    "# Example list of image URLs\n",
    "image_urls = [\n",
    "    \"https://cdn.cdnparenting.com/articles/2018/06/418806355-H-1024x700.jpg\",\n",
    "    \"https://littletikescommercial.com/wp-content/uploads/2020/12/Adventureland-Park-IA_199-scaled.jpg\",\n",
    "    \"https://www.kidstuffplaysystems.com/wp-content/uploads/2019/06/81110-Ring-trek.jpg\",\n",
    "    \"https://images.unsplash.com/photo-1621354598022-16599af1b8b2?q=80&w=870&auto=format&fit=crop&ixlib=rb-4.0.3&ixid=M3wxMjA3fDB8MHxwaG90by1wYWdlfHx8fGVufDB8fHx8fA%3D%3D\"\n",
    "]\n",
    "\n",
    "# Generate captions\n",
    "captions = generate_captions(image_urls)\n",
    "for idx, caption in enumerate(captions):\n",
    "    display.display(display.Image(url=image_urls[idx]))\n",
    "    print(f\"Caption {idx+1}:\", caption)\n"
   ]
  },
  {
   "cell_type": "code",
   "execution_count": null,
   "id": "6e62507a",
   "metadata": {
    "scrolled": true
   },
   "outputs": [
    {
     "data": {
      "text/plain": [
       "['several children are playing with a frisbee in a grassy field',\n",
       " 'there are two children playing on a playground slide',\n",
       " 'there are many children playing on a playground structure']"
      ]
     },
     "execution_count": 11,
     "metadata": {},
     "output_type": "execute_result"
    }
   ],
   "source": [
    "captions"
   ]
  },
  {
   "cell_type": "markdown",
   "id": "96063808",
   "metadata": {},
   "source": [
    "## Load GPT-2 Model and Tokenizer"
   ]
  },
  {
   "cell_type": "code",
   "execution_count": null,
   "id": "2f424653",
   "metadata": {},
   "outputs": [],
   "source": [
    "gpt2_tokenizer = GPT2Tokenizer.from_pretrained(\"gpt2\")\n",
    "gpt2_model = GPT2LMHeadModel.from_pretrained(\"gpt2\")\n"
   ]
  },
  {
   "cell_type": "markdown",
   "id": "fec97cac",
   "metadata": {},
   "source": [
    "## Define Functions for Story Generation"
   ]
  },
  {
   "cell_type": "code",
   "execution_count": null,
   "id": "9ec705ca",
   "metadata": {},
   "outputs": [],
   "source": [
    "def create_story_prompt(captions, theme):\n",
    "    combined_captions = \"\\n\".join(captions)\n",
    "    prompt = (\n",
    "        f\"Create a captivating and coherent children's story with the following elements:\\n\"\n",
    "        f\"Captions:\\n{combined_captions}\\n\"\n",
    "        f\"Theme: {theme}\\n\"\n",
    "        f\"Make sure the story is engaging and appropriate for children. \"\n",
    "        f\"Avoid repeating sentences and ensure the story flows naturally from one scene to the next. \"\n",
    "        f\"The story should be a fun, engaging, and imaginative adventure.\\n\"\n",
    "        f\"Story starts here: \"  # Clear indicator for the model to start story generation\n",
    "    )\n",
    "    return prompt\n",
    "\n",
    "def remove_repetitive_sentences(story):\n",
    "    sentences = story.split('. ')\n",
    "    unique_sentences = []\n",
    "    seen = set()\n",
    "\n",
    "    for sentence in sentences:\n",
    "        if sentence not in seen:\n",
    "            unique_sentences.append(sentence)\n",
    "            seen.add(sentence)\n",
    "\n",
    "    return '. '.join(unique_sentences)\n",
    "\n",
    "def generate_story_gpt2(captions, theme, word_count, temperature=0.7, top_p=0.9):\n",
    "    prompt = create_story_prompt(captions, theme)\n",
    "\n",
    "    inputs = gpt2_tokenizer.encode(prompt, return_tensors=\"pt\")\n",
    "    outputs = gpt2_model.generate(\n",
    "        inputs,\n",
    "        max_length=word_count + len(inputs[0]),  # Account for prompt length\n",
    "        num_return_sequences=1,\n",
    "        temperature=temperature,\n",
    "        top_p=top_p,\n",
    "        no_repeat_ngram_size=2,  # Helps to reduce repetition\n",
    "        pad_token_id=gpt2_tokenizer.eos_token_id  # Ensures padding uses the EOS token\n",
    "    )\n",
    "\n",
    "    story = gpt2_tokenizer.decode(outputs[0], skip_special_tokens=True)\n",
    "    # Remove the prompt from the generated text\n",
    "    story = story[len(prompt):].strip()\n",
    "    return remove_repetitive_sentences(story)"
   ]
  },
  {
   "cell_type": "markdown",
   "id": "a6c64a80",
   "metadata": {},
   "source": [
    "## Generate a Story"
   ]
  },
  {
   "cell_type": "code",
   "execution_count": null,
   "id": "86e60992",
   "metadata": {
    "scrolled": true
   },
   "outputs": [
    {
     "name": "stderr",
     "output_type": "stream",
     "text": [
      "/home/onurcanskurt/.pyenv/versions/3.10.6/envs/lewagon/lib/python3.10/site-packages/transformers/generation/configuration_utils.py:362: UserWarning: `do_sample` is set to `False`. However, `temperature` is set to `0.7` -- this flag is only used in sample-based generation modes. You should set `do_sample=True` or unset `temperature`.\n",
      "  warnings.warn(\n",
      "/home/onurcanskurt/.pyenv/versions/3.10.6/envs/lewagon/lib/python3.10/site-packages/transformers/generation/configuration_utils.py:367: UserWarning: `do_sample` is set to `False`. However, `top_p` is set to `0.9` -- this flag is only used in sample-based generation modes. You should set `do_sample=True` or unset `top_p`.\n",
      "  warnings.warn(\n"
     ]
    },
    {
     "name": "stdout",
     "output_type": "stream",
     "text": [
      "Generated Story: The story begins with two kids playing in the grass. They are both playing a game of dragon. One of the kids is playing the dragon and the other is trying to catch a dragon in his mouth. Both of them are trying their best to get the ball out of his throat. As the game progresses, the two boys are getting closer and closer to catching the Dragon. When the boys catch the Dragons, they are able to escape the area and get back to their parents. This is a great way to introduce the characters to each other and to your children as well. If you are a fan of dragons, you will love this story. It is also a good way for your kids to learn about the world of Dragon Ball Z. You will also love the fact that the children play with dragons. There are several different types of Dragons. Some are simple, some are complex, others are more complex. Each type of character has their own unique abilities and abilities. For example, if you have a Dragon that is very powerful, it will be able take out a lot of enemies. However, there are also many types that are very difficult to defeat. In this case, we will focus on the simple type. Dragon Balls are the most\n"
     ]
    }
   ],
   "source": [
    "# Example usage\n",
    "# captions = [\n",
    "#     \"A little boy standing on a hill.\",\n",
    "#     \"The boy looking at a spaceship.\",\n",
    "#     \"The spaceship taking off into the sky.\",\n",
    "#     \"The boy inside the spaceship, smiling.\",\n",
    "#     \"The spaceship landing on Mars.\"\n",
    "# ]\n",
    "theme = \"Dragons\"\n",
    "word_count = 250  # Adjust based on age-appropriateness\n",
    "\n",
    "# Generate the story\n",
    "story = generate_story_gpt2(captions, theme, word_count)\n",
    "print(\"Generated Story:\", story)\n"
   ]
  },
  {
   "cell_type": "code",
   "execution_count": null,
   "id": "af958e6e",
   "metadata": {},
   "outputs": [],
   "source": []
  }
 ],
 "metadata": {
  "kernelspec": {
   "display_name": "Python 3 (ipykernel)",
   "language": "python",
   "name": "python3"
  },
  "language_info": {
   "codemirror_mode": {
    "name": "ipython",
    "version": 3
   },
   "file_extension": ".py",
   "mimetype": "text/x-python",
   "name": "python",
   "nbconvert_exporter": "python",
   "pygments_lexer": "ipython3",
   "version": "3.10.6"
  },
  "toc": {
   "base_numbering": 1,
   "nav_menu": {},
   "number_sections": true,
   "sideBar": true,
   "skip_h1_title": false,
   "title_cell": "Table of Contents",
   "title_sidebar": "Contents",
   "toc_cell": false,
   "toc_position": {},
   "toc_section_display": true,
   "toc_window_display": false
  }
 },
 "nbformat": 4,
 "nbformat_minor": 5
}
