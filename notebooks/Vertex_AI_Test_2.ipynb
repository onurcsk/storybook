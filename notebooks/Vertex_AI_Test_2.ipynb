{
 "cells": [
  {
   "cell_type": "code",
   "execution_count": 2,
   "metadata": {},
   "outputs": [],
   "source": [
    "import streamlit as st\n",
    "from google.cloud import aiplatform\n",
    "from vertexai import preview\n",
    "import vertexai\n"
   ]
  },
  {
   "cell_type": "code",
   "execution_count": 3,
   "metadata": {},
   "outputs": [],
   "source": [
    "\n",
    "st.set_page_config(\n",
    "    page_title=\"Story Generation App\",\n",
    "    page_icon=\"📖\",\n",
    "    layout=\"centered\",\n",
    "    initial_sidebar_state=\"auto\"\n",
    ")\n"
   ]
  },
  {
   "cell_type": "code",
   "execution_count": 5,
   "metadata": {},
   "outputs": [
    {
     "name": "stderr",
     "output_type": "stream",
     "text": [
      "2024-05-28 17:47:22.418 WARNING streamlit.runtime.state.session_state_proxy: Session state does not function when running a script without `streamlit run`\n",
      "2024-05-28 17:47:22.715 \n",
      "  \u001b[33m\u001b[1mWarning:\u001b[0m to view this Streamlit app on a browser, run it with the following\n",
      "  command:\n",
      "\n",
      "    streamlit run /home/onurcanskurt/.pyenv/versions/lewagon/envs/storybook_test_1/lib/python3.10/site-packages/ipykernel_launcher.py [ARGUMENTS]\n"
     ]
    }
   ],
   "source": [
    "\n",
    "# Initialize Vertex AI\n",
    "aiplatform.init(project=\"tidal-mote-419711\", location=\"europe-west1\")\n",
    "\n",
    "# Function to generate story\n",
    "def generate_story(genre, num_words, num_characters, reader_age, character_names, character_genders, image_captions):\n",
    "    text1 = f\"Write me a {genre} story suitable for {reader_age}-year-olds. The story should have {num_words} words and {num_characters} characters.\"\n",
    "    for name, gender in zip(character_names, character_genders):\n",
    "        text1 += f\" The main character is {name}, a {gender}.\"\n",
    "    text1 += \" The story should be engaging and didactic. It should have a clear introduction, development, and a clear ending.\"\n",
    "    \n",
    "    # Generate story prompt\n",
    "    model = GenerativeModel(\"gemini-1.5-flash-001\")\n",
    "    responses = model.generate_content([text1], generation_config=generation_config, safety_settings=safety_settings, stream=True)\n",
    "    \n",
    "    generated_story = \"\"\n",
    "    for response in responses:\n",
    "        generated_story += response.text\n",
    "    \n",
    "    return generated_story\n",
    "\n",
    "# User inputs\n",
    "genre = st.text_input(\"Enter the genre of the story or a theme description:\")\n",
    "num_words = st.number_input(\"Enter the number of words in the story:\", min_value=1, step=1)\n",
    "num_characters = st.number_input(\"Enter the number of characters in the story:\", min_value=1, step=1)\n",
    "reader_age = st.number_input(\"Enter the reader's age:\", min_value=1, step=1)\n",
    "character_names = st.text_area(\"Enter the name(s) of the character(s), separated by commas:\")\n",
    "character_genders = st.text_area(\"Enter the gender(s) of the character(s), separated by commas:\")\n",
    "# Convert character names and genders to lists\n",
    "character_names = [name.strip() for name in character_names.split(\",\")]\n",
    "character_genders = [gender.strip() for gender in character_genders.split(\",\")]\n",
    "\n",
    "# Image captioning\n",
    "uploaded_files = st.file_uploader(\"Upload up to 5 images\", type=[\"jpg\", \"jpeg\", \"png\"], accept_multiple_files=True)\n",
    "\n",
    "if uploaded_files:\n",
    "    # Process uploaded images and get captions\n",
    "    image_captions = []\n",
    "    for uploaded_file in uploaded_files:\n",
    "        # Process image and get caption\n",
    "        # This part should integrate with the image captioning model\n",
    "        # You can add this functionality here\n",
    "    \n",
    "    # Generate story based on user inputs and image captions\n",
    "        generated_story = generate_story(genre, num_words, num_characters, reader_age, character_names, character_genders, image_captions)\n",
    "    \n",
    "    # Display generated story\n",
    "    st.subheader(\"Generated Story:\")\n",
    "    st.write(generated_story)\n"
   ]
  }
 ],
 "metadata": {
  "kernelspec": {
   "display_name": "storybook_test_1",
   "language": "python",
   "name": "python3"
  },
  "language_info": {
   "codemirror_mode": {
    "name": "ipython",
    "version": 3
   },
   "file_extension": ".py",
   "mimetype": "text/x-python",
   "name": "python",
   "nbconvert_exporter": "python",
   "pygments_lexer": "ipython3",
   "version": "3.10.6"
  }
 },
 "nbformat": 4,
 "nbformat_minor": 2
}
