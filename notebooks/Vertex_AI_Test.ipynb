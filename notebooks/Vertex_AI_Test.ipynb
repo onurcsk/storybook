{
 "cells": [
  {
   "cell_type": "code",
   "execution_count": 3,
   "metadata": {},
   "outputs": [],
   "source": [
    "from google.cloud import aiplatform\n",
    "from vertexai import preview\n",
    "import vertexai"
   ]
  },
  {
   "cell_type": "code",
   "execution_count": 4,
   "metadata": {},
   "outputs": [],
   "source": [
    "aiplatform.init(\n",
    "    # your Google Cloud Project ID or number\n",
    "    # environment default used is not set\n",
    "    project=\"tidal-mote-419711\",\n",
    "\n",
    "    # the Vertex AI region you will use\n",
    "    # defaults to us-central1\n",
    "    location='europe-west1',\n",
    "\n",
    "    # Google Cloud Storage bucket in same region as location\n",
    "    # used to stage artifacts\n",
    "    # staging_bucket='gs://my_staging_bucket',\n",
    "\n",
    "    # custom google.auth.credentials.Credentials\n",
    "    # environment default credentials used if not set\n",
    "    # credentials=my_credentials,\n",
    "\n",
    "    # customer managed encryption key resource name\n",
    "    # will be applied to all Vertex AI resources if set\n",
    "    # encryption_spec_key_name=my_encryption_key_name,\n",
    "\n",
    "    # the name of the experiment to use to track\n",
    "    # logged metrics and parameters\n",
    "    # experiment='my-experiment',\n",
    "\n",
    "    # description of the experiment above\n",
    "    # experiment_description='my experiment description'\n",
    ")"
   ]
  },
  {
   "cell_type": "code",
   "execution_count": 5,
   "metadata": {},
   "outputs": [],
   "source": [
    "import base64\n",
    "import vertexai\n",
    "from vertexai.generative_models import GenerativeModel, Part, FinishReason\n",
    "import vertexai.preview.generative_models as generative_models\n"
   ]
  },
  {
   "cell_type": "code",
   "execution_count": 6,
   "metadata": {},
   "outputs": [
    {
     "name": "stdout",
     "output_type": "stream",
     "text": [
      "Once upon a time, in a land of green meadows and sparkling rivers, lived a little squirrel named Sammy. Sammy loved to play, but he was also very clumsy. He'd trip over his own tail, bump into trees, and always seemed to lose his nuts!\n",
      "\n",
      "One sunny day, Sammy was chasing his tail in the tall oak tree when he accidentally dropped his favorite acorn. It tumbled down, down, down, until it landed right in front of a grumpy old turtle named Sheldon. \n",
      "\n",
      "\"Oh dear!\" cried Sammy, scrambling down the tree. \"I lost my acorn!\"\n",
      "\n",
      "Sheldon looked up from his shell. \"Well, that's what you get for being so clumsy!\" he grumbled.\n",
      "\n",
      "Sammy felt sad. He knew he was clumsy, but he didn't want to be called names. He sat down and sighed, feeling sorry for himself. \n",
      "\n",
      "\"Look,\" said Sheldon, his voice softening. \"I can help you find it. But you have to promise to be more careful.\" \n",
      "\n",
      "Sammy nodded eagerly. He and Sheldon searched high and low, and finally, they found the lost acorn. Sammy hugged Sheldon tightly. \"Thank you!\" he said. \"I promise to try my best to be more careful.\"\n",
      "\n",
      "From that day on, Sammy worked hard to be less clumsy. He still tripped and bumped into things sometimes, but he was always careful with his nuts, and he never forgot Sheldon's kindness. \n"
     ]
    }
   ],
   "source": [
    "\n",
    "def generate():\n",
    "  vertexai.init(project=\"tidal-mote-419711\", location=\"us-central1\")\n",
    "  model = GenerativeModel(\n",
    "    \"gemini-1.5-flash-001\",\n",
    "  )\n",
    "  responses = model.generate_content(\n",
    "      [text1],\n",
    "      generation_config=generation_config,\n",
    "      safety_settings=safety_settings,\n",
    "      stream=True,\n",
    "  )\n",
    "\n",
    "  for response in responses:\n",
    "    print(response.text, end=\"\")\n",
    "\n",
    "text1 = \"\"\"Write me an appropriate children\\'s story that is age-appropriate and which does not exceed 300 words. The story should be engaging and didactic. It should have a clear introduction, development, and a clear ending.\"\"\"\n",
    "\n",
    "generation_config = {\n",
    "    \"max_output_tokens\": 8192,\n",
    "    \"temperature\": 1,\n",
    "    \"top_p\": 0.95,\n",
    "}\n",
    "\n",
    "safety_settings = {\n",
    "    generative_models.HarmCategory.HARM_CATEGORY_HATE_SPEECH: generative_models.HarmBlockThreshold.BLOCK_MEDIUM_AND_ABOVE,\n",
    "    generative_models.HarmCategory.HARM_CATEGORY_DANGEROUS_CONTENT: generative_models.HarmBlockThreshold.BLOCK_MEDIUM_AND_ABOVE,\n",
    "    generative_models.HarmCategory.HARM_CATEGORY_SEXUALLY_EXPLICIT: generative_models.HarmBlockThreshold.BLOCK_MEDIUM_AND_ABOVE,\n",
    "    generative_models.HarmCategory.HARM_CATEGORY_HARASSMENT: generative_models.HarmBlockThreshold.BLOCK_MEDIUM_AND_ABOVE,\n",
    "}\n",
    "\n",
    "generate()\n"
   ]
  }
 ],
 "metadata": {
  "kernelspec": {
   "display_name": "storybook_test_1",
   "language": "python",
   "name": "python3"
  },
  "language_info": {
   "codemirror_mode": {
    "name": "ipython",
    "version": 3
   },
   "file_extension": ".py",
   "mimetype": "text/x-python",
   "name": "python",
   "nbconvert_exporter": "python",
   "pygments_lexer": "ipython3",
   "version": "3.10.6"
  }
 },
 "nbformat": 4,
 "nbformat_minor": 2
}
